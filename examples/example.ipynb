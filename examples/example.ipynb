{
 "cells": [
  {
   "cell_type": "code",
   "execution_count": 58,
   "id": "76929d97",
   "metadata": {},
   "outputs": [],
   "source": [
    "import torch\n",
    "from tqdm import tqdm\n",
    "import numpy as np"
   ]
  },
  {
   "cell_type": "code",
   "execution_count": 7,
   "id": "31828092",
   "metadata": {},
   "outputs": [],
   "source": [
    "def generate_sample(n=20000, k=4, density = 0.1):\n",
    "    W = torch.ones((n,1))\n",
    "    X = torch.rand(n,k)\n",
    "    mask = torch.rand(n,k) < density\n",
    "    X[mask] = 0\n",
    "    theta = torch.rand(k, 1)\n",
    "    lambdas = torch.exp(X @ theta)\n",
    "    Y = torch.poisson(lambdas)\n",
    "    return {\n",
    "        \"n\": n,\n",
    "        \"k\": k,\n",
    "        \"W\": W,\n",
    "        \"X\": X.to_sparse(),\n",
    "        \"theta\": theta,\n",
    "        \"lambdas\": lambdas,\n",
    "        \"Y\": Y,\n",
    "    }"
   ]
  },
  {
   "cell_type": "code",
   "execution_count": 8,
   "id": "21803b18",
   "metadata": {},
   "outputs": [
    {
     "name": "stdout",
     "output_type": "stream",
     "text": [
      "tensor([[0.0356],\n",
      "        [0.9555],\n",
      "        [0.1859],\n",
      "        [0.5586]])\n",
      "Is X sparse: True\n"
     ]
    }
   ],
   "source": [
    "n = 10000\n",
    "k = 4\n",
    "density = 0.1\n",
    "sample = generate_sample(n, k, density)\n",
    "print(sample[\"theta\"])\n",
    "print(\"Is X sparse:\", sample[\"X\"].is_sparse)"
   ]
  },
  {
   "cell_type": "code",
   "execution_count": 70,
   "id": "19ee53b4",
   "metadata": {},
   "outputs": [],
   "source": [
    "def train_one_epoch(model, X, Y, W, max_steps=200, optimizer = None, verbose = True):\n",
    "    if optimizer is None:\n",
    "        optimizer = torch.optim.RMSprop(model.parameters())\n",
    "    losses = [torch.nan]\n",
    "    for i in tqdm(range(max_steps), disable = not verbose):\n",
    "        optimizer.zero_grad()\n",
    "        loss = model.get_loss(X, Y, W)\n",
    "        if abs(losses[-1]-loss)<0.000001:\n",
    "            if verbose:\n",
    "                print(f\"success after {i} steps\")\n",
    "            break\n",
    "        losses.append(loss)\n",
    "        loss.backward()\n",
    "        optimizer.step()\n",
    "    return losses\n",
    "\n",
    "class PoissonRegression(torch.nn.Module):\n",
    "    def __init__(self, size):\n",
    "        super(PoissonRegression, self).__init__()\n",
    "        self.theta = torch.nn.Linear(size, 1)\n",
    "    \n",
    "    def forward(self, x):\n",
    "        linear = self.theta.forward(x)\n",
    "        return torch.exp(linear)\n",
    "    \n",
    "    def get_loss(self, X, Y, W):\n",
    "        W = W / W.sum()\n",
    "        weighted_Y = Y * W\n",
    "        log_likelihood = weighted_Y.T @ self.theta.forward(X) - W.T @ self.forward(X)\n",
    "        loss = -log_likelihood\n",
    "        return loss"
   ]
  },
  {
   "cell_type": "code",
   "execution_count": 77,
   "id": "a4724c52",
   "metadata": {},
   "outputs": [
    {
     "name": "stderr",
     "output_type": "stream",
     "text": [
      "100%|█████████████████████████████████████████| 100/100 [32:03<00:00, 19.23s/it]\n"
     ]
    }
   ],
   "source": [
    "opt_classes = {\n",
    "    \"torch.optim.SGD\" : (torch.optim.SGD, {\"lr\":0.1}),\n",
    "    \"torch.optim.Adam\" : (torch.optim.Adam, {}),\n",
    "    \"torch.optim.RMSprop\" : (torch.optim.RMSprop, {}),\n",
    "    \"torch.optim.Adadelta\" : (torch.optim.Adadelta, {}),\n",
    "}\n",
    "ntrial = 100\n",
    "results = {key:[] for key in opt_classes.keys()}\n",
    "for i in tqdm(range(ntrial)):\n",
    "    for name, (opt_class, params) in opt_classes.items():\n",
    "        regressor = PoissonRegression(sample[\"k\"])\n",
    "        optimizer = opt_class(regressor.parameters(), **params)\n",
    "        losses = train_one_epoch(regressor, sample[\"X\"], sample[\"Y\"], sample[\"W\"], 2000, optimizer, False)\n",
    "        l2 = torch.norm(sample['theta'] - regressor.theta.weight.T).item()\n",
    "        results[name].append((len(losses), l2))"
   ]
  },
  {
   "cell_type": "code",
   "execution_count": 78,
   "id": "c9eb4509",
   "metadata": {},
   "outputs": [
    {
     "name": "stdout",
     "output_type": "stream",
     "text": [
      "torch.optim.SGD: mean steps=224.75, mean l2=0.04\n",
      "torch.optim.Adam: mean steps=1915.92, mean l2=0.25\n",
      "torch.optim.RMSprop: mean steps=207.61, mean l2=0.03\n",
      "torch.optim.Adadelta: mean steps=411.39, mean l2=0.04\n"
     ]
    }
   ],
   "source": [
    "for key, val in results.items():\n",
    "    steps = [l[0] for l in val]\n",
    "    l2 = [l[1] for l in val]\n",
    "    print(f\"{key}: mean steps={np.mean(steps).round(2)}, mean l2={np.mean(l2).round(2)}\")"
   ]
  },
  {
   "cell_type": "code",
   "execution_count": 51,
   "id": "f9babb0e",
   "metadata": {},
   "outputs": [
    {
     "name": "stdout",
     "output_type": "stream",
     "text": [
      "Parameter containing:\n",
      "tensor([[0.0151, 0.9641, 0.1902, 0.5482]], requires_grad=True)\n",
      "torch.Size([1, 4]) torch.Size([1, 4])\n",
      "tensor([[-0.0205,  0.0086,  0.0043, -0.0104]], grad_fn=<SubBackward0>)\n",
      "tensor(0.0249, grad_fn=<LinalgVectorNormBackward0>)\n"
     ]
    }
   ],
   "source": [
    "print(regressor.theta.weight)\n",
    "d = regressor.theta.weight - sample['theta'].T\n",
    "print(regressor.theta.weight.shape, sample['theta'].T.shape)\n",
    "print(d)\n",
    "print(torch.norm(d))"
   ]
  },
  {
   "cell_type": "code",
   "execution_count": 11,
   "id": "80ddb022",
   "metadata": {},
   "outputs": [
    {
     "name": "stderr",
     "output_type": "stream",
     "text": [
      "  8%|███▏                                   | 166/2000 [00:00<00:07, 232.87it/s]"
     ]
    },
    {
     "name": "stdout",
     "output_type": "stream",
     "text": [
      "success after 166 steps\n"
     ]
    },
    {
     "name": "stderr",
     "output_type": "stream",
     "text": [
      "\n"
     ]
    }
   ],
   "source": [
    "regressor = PoissonRegression(sample[\"k\"])\n",
    "losses = train_one_epoch(regressor, sample[\"X\"], sample[\"Y\"], sample[\"W\"], 2000)"
   ]
  },
  {
   "cell_type": "code",
   "execution_count": 43,
   "id": "6b396ab3",
   "metadata": {},
   "outputs": [
    {
     "data": {
      "text/plain": [
       "tensor([[0.8619],\n",
       "        [0.4618],\n",
       "        [0.0853],\n",
       "        [0.3811]])"
      ]
     },
     "execution_count": 43,
     "metadata": {},
     "output_type": "execute_result"
    }
   ],
   "source": [
    "sample[\"theta\"]"
   ]
  },
  {
   "cell_type": "code",
   "execution_count": 44,
   "id": "bf82e536",
   "metadata": {},
   "outputs": [
    {
     "data": {
      "text/plain": [
       "Parameter containing:\n",
       "tensor([[0.8540, 0.4211, 0.0725, 0.3617]], requires_grad=True)"
      ]
     },
     "execution_count": 44,
     "metadata": {},
     "output_type": "execute_result"
    }
   ],
   "source": [
    "regressor.theta.weight"
   ]
  },
  {
   "cell_type": "code",
   "execution_count": 45,
   "id": "944d5c25",
   "metadata": {},
   "outputs": [],
   "source": [
    "regressor.theta.weight.grad"
   ]
  },
  {
   "cell_type": "code",
   "execution_count": 46,
   "id": "c910a297",
   "metadata": {},
   "outputs": [
    {
     "data": {
      "text/plain": [
       "tensor([[0.2188]])"
      ]
     },
     "execution_count": 46,
     "metadata": {},
     "output_type": "execute_result"
    }
   ],
   "source": [
    "def get_baseline_loss(W, Y, X, theta):\n",
    "    W = W / W.sum()\n",
    "    weighted_Y = Y * W\n",
    "    log_likelihood = weighted_Y.T @ X @ theta - W.T @ torch.exp(X @ theta)\n",
    "    loss = -log_likelihood\n",
    "    return loss\n",
    "get_baseline_loss(sample[\"W\"], sample[\"Y\"], sample[\"X\"], sample[\"theta\"])"
   ]
  },
  {
   "cell_type": "code",
   "execution_count": 4,
   "id": "db871304",
   "metadata": {},
   "outputs": [
    {
     "data": {
      "text/plain": [
       "4"
      ]
     },
     "execution_count": 4,
     "metadata": {},
     "output_type": "execute_result"
    }
   ],
   "source": [
    "z"
   ]
  },
  {
   "cell_type": "code",
   "execution_count": null,
   "id": "81f495ca",
   "metadata": {},
   "outputs": [],
   "source": []
  }
 ],
 "metadata": {
  "kernelspec": {
   "display_name": "Python 3 (ipykernel)",
   "language": "python",
   "name": "python3"
  },
  "language_info": {
   "codemirror_mode": {
    "name": "ipython",
    "version": 3
   },
   "file_extension": ".py",
   "mimetype": "text/x-python",
   "name": "python",
   "nbconvert_exporter": "python",
   "pygments_lexer": "ipython3",
   "version": "3.8.5"
  }
 },
 "nbformat": 4,
 "nbformat_minor": 5
}
